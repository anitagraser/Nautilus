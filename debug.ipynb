{
 "cells": [
  {
   "cell_type": "code",
   "execution_count": 1,
   "metadata": {},
   "outputs": [],
   "source": [
    "import pandas as pd"
   ]
  },
  {
   "cell_type": "code",
   "execution_count": 17,
   "metadata": {},
   "outputs": [],
   "source": [
    "mmsi_mid = pd.read_pickle('./mmsi_mid.pickle')\n",
    "mmsi_mid  #.to_csv('mmsi_mid_whitelist.csv', index=False)"
   ]
  },
  {
   "cell_type": "code",
   "execution_count": 10,
   "metadata": {},
   "outputs": [
    {
     "data": {
      "text/html": [
       "<div>\n",
       "<style scoped>\n",
       "    .dataframe tbody tr th:only-of-type {\n",
       "        vertical-align: middle;\n",
       "    }\n",
       "\n",
       "    .dataframe tbody tr th {\n",
       "        vertical-align: top;\n",
       "    }\n",
       "\n",
       "    .dataframe thead th {\n",
       "        text-align: right;\n",
       "    }\n",
       "</style>\n",
       "<table border=\"1\" class=\"dataframe\">\n",
       "  <thead>\n",
       "    <tr style=\"text-align: right;\">\n",
       "      <th></th>\n",
       "      <th>sourcemmsi</th>\n",
       "      <th>navigationalstatus</th>\n",
       "      <th>rateofturn</th>\n",
       "      <th>speedoverground</th>\n",
       "      <th>courseoverground</th>\n",
       "      <th>trueheading</th>\n",
       "      <th>lon</th>\n",
       "      <th>lat</th>\n",
       "      <th>t</th>\n",
       "    </tr>\n",
       "  </thead>\n",
       "  <tbody>\n",
       "    <tr>\n",
       "      <th>0</th>\n",
       "      <td>245257000</td>\n",
       "      <td>0.0</td>\n",
       "      <td>0.0</td>\n",
       "      <td>0.1</td>\n",
       "      <td>13.1</td>\n",
       "      <td>36</td>\n",
       "      <td>-4.465718</td>\n",
       "      <td>48.382490</td>\n",
       "      <td>1443650402</td>\n",
       "    </tr>\n",
       "    <tr>\n",
       "      <th>1</th>\n",
       "      <td>227705102</td>\n",
       "      <td>15.0</td>\n",
       "      <td>-127.0</td>\n",
       "      <td>0.0</td>\n",
       "      <td>262.7</td>\n",
       "      <td>511</td>\n",
       "      <td>-4.496571</td>\n",
       "      <td>48.382420</td>\n",
       "      <td>1443650403</td>\n",
       "    </tr>\n",
       "    <tr>\n",
       "      <th>2</th>\n",
       "      <td>228131600</td>\n",
       "      <td>15.0</td>\n",
       "      <td>-127.0</td>\n",
       "      <td>8.5</td>\n",
       "      <td>263.7</td>\n",
       "      <td>511</td>\n",
       "      <td>-4.644325</td>\n",
       "      <td>48.092247</td>\n",
       "      <td>1443650404</td>\n",
       "    </tr>\n",
       "    <tr>\n",
       "      <th>3</th>\n",
       "      <td>228051000</td>\n",
       "      <td>0.0</td>\n",
       "      <td>-127.0</td>\n",
       "      <td>0.0</td>\n",
       "      <td>295.0</td>\n",
       "      <td>511</td>\n",
       "      <td>-4.485108</td>\n",
       "      <td>48.381320</td>\n",
       "      <td>1443650405</td>\n",
       "    </tr>\n",
       "    <tr>\n",
       "      <th>4</th>\n",
       "      <td>227574020</td>\n",
       "      <td>15.0</td>\n",
       "      <td>-127.0</td>\n",
       "      <td>0.1</td>\n",
       "      <td>248.6</td>\n",
       "      <td>511</td>\n",
       "      <td>-4.495441</td>\n",
       "      <td>48.383660</td>\n",
       "      <td>1443650406</td>\n",
       "    </tr>\n",
       "    <tr>\n",
       "      <th>...</th>\n",
       "      <td>...</td>\n",
       "      <td>...</td>\n",
       "      <td>...</td>\n",
       "      <td>...</td>\n",
       "      <td>...</td>\n",
       "      <td>...</td>\n",
       "      <td>...</td>\n",
       "      <td>...</td>\n",
       "      <td>...</td>\n",
       "    </tr>\n",
       "    <tr>\n",
       "      <th>19035625</th>\n",
       "      <td>227362110</td>\n",
       "      <td>NaN</td>\n",
       "      <td>NaN</td>\n",
       "      <td>0.0</td>\n",
       "      <td>199.9</td>\n",
       "      <td>511</td>\n",
       "      <td>-4.489970</td>\n",
       "      <td>48.379265</td>\n",
       "      <td>1459461496</td>\n",
       "    </tr>\n",
       "    <tr>\n",
       "      <th>19035626</th>\n",
       "      <td>227315190</td>\n",
       "      <td>NaN</td>\n",
       "      <td>NaN</td>\n",
       "      <td>9.1</td>\n",
       "      <td>137.0</td>\n",
       "      <td>511</td>\n",
       "      <td>-4.398467</td>\n",
       "      <td>48.197660</td>\n",
       "      <td>1459461498</td>\n",
       "    </tr>\n",
       "    <tr>\n",
       "      <th>19035627</th>\n",
       "      <td>228005700</td>\n",
       "      <td>NaN</td>\n",
       "      <td>NaN</td>\n",
       "      <td>0.1</td>\n",
       "      <td>13.3</td>\n",
       "      <td>511</td>\n",
       "      <td>-4.522517</td>\n",
       "      <td>48.365368</td>\n",
       "      <td>1459461523</td>\n",
       "    </tr>\n",
       "    <tr>\n",
       "      <th>19035628</th>\n",
       "      <td>227127750</td>\n",
       "      <td>NaN</td>\n",
       "      <td>NaN</td>\n",
       "      <td>0.0</td>\n",
       "      <td>0.0</td>\n",
       "      <td>511</td>\n",
       "      <td>-4.332997</td>\n",
       "      <td>48.090733</td>\n",
       "      <td>1459461531</td>\n",
       "    </tr>\n",
       "    <tr>\n",
       "      <th>19035629</th>\n",
       "      <td>211707600</td>\n",
       "      <td>NaN</td>\n",
       "      <td>NaN</td>\n",
       "      <td>0.0</td>\n",
       "      <td>0.8</td>\n",
       "      <td>511</td>\n",
       "      <td>-4.589588</td>\n",
       "      <td>48.279755</td>\n",
       "      <td>1459461567</td>\n",
       "    </tr>\n",
       "  </tbody>\n",
       "</table>\n",
       "<p>19035630 rows × 9 columns</p>\n",
       "</div>"
      ],
      "text/plain": [
       "          sourcemmsi  navigationalstatus  rateofturn  speedoverground   \n",
       "0          245257000                 0.0         0.0              0.1  \\\n",
       "1          227705102                15.0      -127.0              0.0   \n",
       "2          228131600                15.0      -127.0              8.5   \n",
       "3          228051000                 0.0      -127.0              0.0   \n",
       "4          227574020                15.0      -127.0              0.1   \n",
       "...              ...                 ...         ...              ...   \n",
       "19035625   227362110                 NaN         NaN              0.0   \n",
       "19035626   227315190                 NaN         NaN              9.1   \n",
       "19035627   228005700                 NaN         NaN              0.1   \n",
       "19035628   227127750                 NaN         NaN              0.0   \n",
       "19035629   211707600                 NaN         NaN              0.0   \n",
       "\n",
       "          courseoverground  trueheading       lon        lat           t  \n",
       "0                     13.1           36 -4.465718  48.382490  1443650402  \n",
       "1                    262.7          511 -4.496571  48.382420  1443650403  \n",
       "2                    263.7          511 -4.644325  48.092247  1443650404  \n",
       "3                    295.0          511 -4.485108  48.381320  1443650405  \n",
       "4                    248.6          511 -4.495441  48.383660  1443650406  \n",
       "...                    ...          ...       ...        ...         ...  \n",
       "19035625             199.9          511 -4.489970  48.379265  1459461496  \n",
       "19035626             137.0          511 -4.398467  48.197660  1459461498  \n",
       "19035627              13.3          511 -4.522517  48.365368  1459461523  \n",
       "19035628               0.0          511 -4.332997  48.090733  1459461531  \n",
       "19035629               0.8          511 -4.589588  48.279755  1459461567  \n",
       "\n",
       "[19035630 rows x 9 columns]"
      ]
     },
     "execution_count": 10,
     "metadata": {},
     "output_type": "execute_result"
    }
   ],
   "source": [
    "df = pd.read_csv('data/brest-dataset/nari_dynamic.csv')"
   ]
  },
  {
   "cell_type": "code",
   "execution_count": 6,
   "metadata": {},
   "outputs": [
    {
     "data": {
      "text/plain": [
       "0           245\n",
       "1           227\n",
       "2           228\n",
       "3           228\n",
       "4           227\n",
       "           ... \n",
       "19035625    227\n",
       "19035626    227\n",
       "19035627    228\n",
       "19035628    227\n",
       "19035629    211\n",
       "Name: sourcemmsi, Length: 19035630, dtype: object"
      ]
     },
     "execution_count": 6,
     "metadata": {},
     "output_type": "execute_result"
    }
   ],
   "source": [
    "VESSEL_ID_NAME, SPEED_NAME, COURSE_NAME, TIMESTAMP_NAME, TIMESTAMP_UNIT, COORDS_NAMES, COORDS_CRS = 'sourcemmsi', 'speedoverground', 'courseoverground', 't', 's', ['lon', 'lat'], 4326\n",
    "df[VESSEL_ID_NAME].astype(str).str.zfill(9).str[:3]"
   ]
  },
  {
   "cell_type": "code",
   "execution_count": 12,
   "metadata": {},
   "outputs": [],
   "source": [
    "df = df.loc[\n",
    "    df[VESSEL_ID_NAME].astype(str).str.zfill(9).str[:3].isin(\n",
    "        mmsi_mid.MID.astype(str)\n",
    "    )\n",
    "]"
   ]
  },
  {
   "cell_type": "code",
   "execution_count": 14,
   "metadata": {},
   "outputs": [
    {
     "data": {
      "text/plain": [
       "array(['245', '227', '228', '220', '355', '234', '249', '235', '226',\n",
       "       '255', '357', '215', '209', '248', '305', '636', '273', '477',\n",
       "       '356', '310', '244', '565', '205', '275', '276', '259', '261',\n",
       "       '311', '236', '246', '314', '441', '271', '564', '371', '304',\n",
       "       '354', '338', '257', '352', '538', '229', '351', '218', '566',\n",
       "       '264', '224', '240', '211', '256', '219', '212', '373', '577',\n",
       "       '563', '258', '247', '241', '419', '233', '319', '548', '207',\n",
       "       '225', '250', '253', '664', '308', '375', '372', '210', '353',\n",
       "       '239', '232', '447', '238', '230', '567', '306', '533', '370',\n",
       "       '266', '367', '518', '622', '432', '403', '309', '701', '269',\n",
       "       '377', '431', '470', '312', '237', '642', '416', '231', '414',\n",
       "       '374', '265', '417', '413', '667', '341', '605', '376', '440',\n",
       "       '378', '412', '369', '251', '576', '277', '263', '740', '303',\n",
       "       '720', '368', '262', '511', '325', '428', '362', '671', '347',\n",
       "       '503', '243', '619', '329', '270'], dtype=object)"
      ]
     },
     "execution_count": 14,
     "metadata": {},
     "output_type": "execute_result"
    }
   ],
   "source": [
    "df[VESSEL_ID_NAME].astype(str).str.zfill(9).str[:3].unique()"
   ]
  },
  {
   "cell_type": "code",
   "execution_count": 15,
   "metadata": {},
   "outputs": [
    {
     "data": {
      "text/plain": [
       "array([201, 202, 203, 204, 205, 206, 207, 208, 209, 210, 211, 212, 213,\n",
       "       214, 215, 216, 218, 219, 220, 224, 225, 226, 227, 228, 229, 230,\n",
       "       231, 232, 233, 234, 235, 236, 237, 238, 239, 240, 241, 242, 243,\n",
       "       244, 245, 246, 247, 248, 249, 250, 251, 252, 253, 254, 255, 256,\n",
       "       257, 258, 259, 261, 262, 263, 264, 265, 266, 267, 268, 269, 270,\n",
       "       271, 272, 273, 274, 275, 276, 277, 278, 279, 301, 303, 304, 305,\n",
       "       306, 307, 308, 309, 310, 311, 312, 314, 316, 319, 321, 323, 325,\n",
       "       327, 329, 330, 331, 332, 334, 336, 338, 339, 341, 343, 345, 347,\n",
       "       348, 350, 351, 352, 353, 354, 355, 356, 357, 358, 359, 361, 362,\n",
       "       364, 366, 367, 368, 369, 370, 371, 372, 373, 374, 375, 376, 377,\n",
       "       378, 379, 401, 403, 405, 408, 410, 412, 413, 414, 416, 417, 419,\n",
       "       422, 423, 425, 428, 431, 432, 434, 436, 437, 438, 440, 441, 443,\n",
       "       445, 447, 450, 451, 453, 455, 457, 459, 461, 463, 466, 468, 470,\n",
       "       471, 472, 473, 475, 477, 478, 501, 503, 506, 508, 510, 511, 512,\n",
       "       514, 515, 516, 518, 520, 523, 525, 529, 531, 533, 536, 538, 540,\n",
       "       542, 544, 546, 548, 553, 555, 557, 559, 561, 563, 564, 565, 566,\n",
       "       567, 570, 572, 574, 576, 577, 578, 601, 603, 605, 607, 608, 609,\n",
       "       610, 611, 612, 613, 615, 616, 617, 618, 619, 620, 621, 622, 624,\n",
       "       625, 626, 627, 629, 630, 631, 632, 633, 634, 635, 636, 637, 642,\n",
       "       644, 645, 647, 649, 650, 654, 655, 656, 657, 659, 660, 661, 662,\n",
       "       663, 664, 665, 666, 667, 668, 669, 670, 671, 672, 674, 675, 676,\n",
       "       677, 678, 679, 701, 710, 720, 725, 730, 735, 740, 745, 750, 755,\n",
       "       760, 765, 770, 775])"
      ]
     },
     "execution_count": 15,
     "metadata": {},
     "output_type": "execute_result"
    }
   ],
   "source": [
    "mmsi_mid.MID.unique()"
   ]
  },
  {
   "cell_type": "code",
   "execution_count": null,
   "metadata": {},
   "outputs": [],
   "source": []
  }
 ],
 "metadata": {
  "kernelspec": {
   "display_name": "nautilus",
   "language": "python",
   "name": "python3"
  },
  "language_info": {
   "codemirror_mode": {
    "name": "ipython",
    "version": 3
   },
   "file_extension": ".py",
   "mimetype": "text/x-python",
   "name": "python",
   "nbconvert_exporter": "python",
   "pygments_lexer": "ipython3",
   "version": "3.10.8"
  }
 },
 "nbformat": 4,
 "nbformat_minor": 2
}
